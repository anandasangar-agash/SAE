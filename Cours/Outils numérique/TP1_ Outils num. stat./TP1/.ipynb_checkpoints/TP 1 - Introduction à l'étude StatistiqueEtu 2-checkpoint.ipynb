{
 "cells": [
  {
   "cell_type": "markdown",
   "metadata": {},
   "source": [
    "<h1> Agash Anandasangar</h1>"
   ]
  },
  {
   "cell_type": "markdown",
   "metadata": {},
   "source": [
    "\n",
    "<div id=\"haut2page\" style=\"border:3px solid black; padding:3%; font-size:314% ; text-align:center; color:white; background-color:black;\">Introduction aux outils numérique pour \n",
    "</div>\n",
    "<div id=\"haut2page\" style=\"border:3px solid black; padding:3%; font-size:314% ; text-align:center; color:white; background-color:black;\">\n",
    "   les statistiques descriptive univariée  \n",
    "</div>\n",
    "\n",
    "    \n",
    "\n",
    " \n",
    "<h3>Navigation dans la page</h3>\n",
    "<p>\n",
    "    Si c'est votre première visite dans ce TP, lisez attentivement chacun des points détaillé après ce paragraphe.<br>\n",
    "    Si vous avez déjà commencer à travailler sur ce TP et que vous souhaiter vous déplacer rapidement dans une partie précise vous pouvez choisir la partie que vous souhaitez rejoindre ci-dessous. <br>\n",
    "    <details open>\n",
    "        <summary><strong style=\"font-size:1.414em;color:green;\">Menu de navigation</strong></summary>\n",
    "        <ul>\n",
    "            <li><a href=\"#haut2page\">Haut de page</a></li>\n",
    "            <li><a href=\"#Partie1\">Introduction: Rappels de cours </a></li>\n",
    "            <li><a href=\"#Partie2\">Représentation des données</a></li>\n",
    "            <li><a href=\"#Partie3\">Applications</a></li>\n",
    "        </ul>\n",
    "    </details>\n",
    "</p>\n",
    "\n",
    "Si au long de ce TP vous disposez d'une aide, que vous pourrez faire apparaitre en cliquant devant la puce du mot <em>Aide</em> pour dérouler un menu. \n",
    "  <details style=\"color:green;\">\n",
    "        <summary><strong>Aide verte : Attendus</strong></summary>\n",
    "        Des éléments de solutions, parfois même la solution entière, vous sera donner dans ce paragraphe.\n",
    "    </details>"
   ]
  },
  {
   "cell_type": "markdown",
   "metadata": {},
   "source": [
    "**<u>Voici une définition de statistique</u>**:\n",
    "<br><br/>\n",
    "\n",
    "<div class=\"quote\">\n",
    "La statistique descriptive désigne un ensemble de techniques dont le but est de \n",
    " <ul>\n",
    "\t<li>explorer, découvrir l'information contenue dans les données</li>\n",
    "\t<li>les représenter graphiquement</li>\n",
    "    <li>détecter des premières tendances</li>\n",
    "    </ul>\n",
    "À chacun des ces buts correspond une technique que nous travaillerons dans ce TP:\n",
    "\n",
    "|   Objectifs  |   Techniques |\n",
    "|---  |--- |\n",
    "|   explorer, découvrir les données  |   tableaux statistiques |\n",
    "|  représenter graphiquement   |   graphiques   |\n",
    "|  détecter des tendances  |   indicateurs de liaison  | \n",
    "    \n",
    "**Cependant**, attention aux conclusions hâtives: [_exemple le chocolat_](https://www.youtube.com/watch?v=aOX0pIwBCvw\n",
    ").\n",
    "  \n",
    "Dans ce cours nous nous int&eacute;resserons &agrave; un type de statistique en particulier : \n",
    "celle qui  n'étudie qu'un **caractère**, une variable &agrave; la fois ; on parle alors de \n",
    "statistique <u> unidimensionnelle </u>. \n",
    "\n",
    "<h3>Définition</h3>\n",
    "\n",
    "<div style = \"background-color:rgba(0,79,255,0.3); vertical-align:middle;padding:1%;margin:3% 5% 3% 5%;border:3px black solid;border-radius:13px;\">\n",
    "<h4>Définition <em></em></h4><hr />\n",
    "    Une étude statistique <b> caractère </b> ou <b>  variable </b> et qui est présente chez chacun des éléments ou individus d'un ensemble donné appelé <b> population </b>.\n",
    "</div>\n",
    "\n",
    "Par exemple, la population peut être les étudiants d'une classe et le caractère peut-être les notes à l'examen de l'année.<br>\n",
    "    <b> Attention </b>, les individus ne sont pas forcément des personnes physiques.<br> Si on s'intéresse pour chaque trimestre entre 2020 et 2021 au nombre de personnes  covidés. <br>\n",
    "    _Quel est l'individu_ statistique dans le cas présent?\n",
    "    \n",
    "<u>On distingue deux types de caractères: </u> \n",
    "     \n",
    " <h3>Définition</h3>\n",
    "\n",
    "<div style = \"background-color:rgba(0,79,255,0.3); vertical-align:middle;padding:1%;margin:3% 5% 3% 5%;border:3px black solid;border-radius:13px;\">\n",
    "<h4>Définition <em></em></h4><hr />\n",
    "    Une variable, ou caractère, statistique est dit <b> qualitative </b> si ses valeurs s'expriment de facçon littérale ou par un encodage sur lequel les oprations arithmétiques n'ont pas de sens.\n",
    "</div>\n",
    "Par exemple le sexe des personnes interrog&eacute;es, le num&eacute;ro de leur d&eacute;partement de naissances (bien\n",
    "que cela soit des nombres et que les op&eacute;rations arithm&eacute;tiques usuelles soient valides, il n&apos;y a aucun sens &agrave; consid&eacute;rer\n",
    "la somme de num&eacute;ro de d&eacute;partement ou la moyenne de ces num&eacute;ros ; il s&apos;agit ici d&apos;un codage), leur situation\n",
    "familiale, la mention recal&eacute;, passable, assez bien, bien et tr&egrave;s bien que peut avoir un &eacute;tudiant &agrave; un \n",
    "examen.<br>\n",
    "    Dans ce dernier exemple on dit que le caract&egrave;re est <em>ordinal</em> car on peut tout de m&ecirc;me ordonner les\n",
    "valeurs du caract&egrave;res.<br> Dans les autres exemples, on parle de caract&egrave;re, ou variable, \n",
    "<em>nominale</em> (ne sont d&eacute;crit que par leur nom)."
   ]
  },
  {
   "cell_type": "markdown",
   "metadata": {},
   "source": [
    "<div style = \"background-color:rgba(0,79,255,0.3); vertical-align:middle;padding:1%;margin:3% 5% 3% 5%;border:3px black solid;border-radius:13px;\">\n",
    "<h4>Définition <em></em></h4><hr />\n",
    "\n",
    "Une variable, ou caract&egrave;re, statistique est dite <span class=\"textbf\">quantitative</span> si ses valeurs sont des nombres\n",
    "sur lesquels les op&eacute;rations arithm&eacute;tiques ont un sens.\n",
    "Elle peut &ecirc;tre de deux formes :\n",
    "<dl><dt>$ \\bullet$  Discr&egrave;te : </dt><dd> Si elle ne prend qu&apos;un nombre fini de valeur. Ces valeurs sont appel&eacute;es des <span class=\"textbf\">modalit&eacute;s</span>.\n",
    "</dd><br /><dt>$ \\bullet$  Continue : </dt><dd> Si elle prend ses valeurs dans un intervalle. Ces intervalles sont appel&eacute;es des \n",
    "<span class=\"textbf\">classes</span>.\n",
    "</dd></dl>\n",
    "\n",
    "</div>\n",
    "<div style = \"background-color:rgba(0,79,255,0.3); vertical-align:middle;padding:1%;margin:3% 5% 3% 5%;border:3px black solid;border-radius:13px;\">\n",
    "<h4>Définition <em></em></h4><hr/>\n",
    "\n",
    "Une  <b> série statistique </b>  est l'ensemble des  <b> modalités </b>  ou <b> classes </b> correspondant à tous les individus de la population consid&eacute;r&eacute;e.\n",
    "  \n",
    "\n",
    "</div>"
   ]
  },
  {
   "cell_type": "markdown",
   "metadata": {},
   "source": [
    "<h3>S&eacute;rie statistique &agrave; caract&egrave;re discret</h3>\n",
    "<p>\n",
    "Dans la suite de ce TP, on fixe une s&eacute;rie statistique &agrave; caract&egrave;re discret $ S$. <br>\n",
    "Cela signifie que $ S$  est\n",
    "un ensemble fini de nombres r&eacute;els, les <span class=\"textbf\">modalit&eacute;s</span>. <bf> Il existe donc des nombres \n",
    "$ x_i\\in \\mathbb{R}$  tel que $ S=\\left\\{x_1, x_2, ..., x_n\\right\\}$ \n",
    "\n",
    "On note $ k$  le nombre de modalit&eacute; diff&eacute;rente et $ x_1,x_2,..., x_k$  ces diff&eacute;rentes modalit&eacute;s ordonn&eacute;es \n",
    "dans l&apos;ordre permettant au mieux d&apos;observer la s&eacute;rie (dans la plupart des cas c&apos;est dans l&apos;ordre croissant). \n",
    "<p>Pour nous familiariser avec les notions, nous utiliserons cet exemple:</p>\n",
    "    <ul>\n",
    "\t<li>La population étudi&eacute;e est  un groupe de TD de 30 &eacute;tudiants. </li>\n",
    "\t<li>Le caract&egrave;re &eacute;tudi&eacute; est les r&eacute;sultats obtenus &agrave; l&apos;examen de math&eacute;matiques. Les notes, sur 20, sont les suivantes :</li>\n",
    "</ul>\n",
    "$$\n",
    "\\begin{array}{|c|c|c|c|c|c|}\n",
    "\\hline\n",
    "12&11&7&10&9&3\\\\\\hline\n",
    "12&15&8&8&14&11\\\\\\hline\n",
    "7&2&0&18&11&14\\\\\\hline\n",
    "16&11&9&12&11&11\\\\\\hline\n",
    "15&10&15&7&14&10\\\\\\hline\n",
    "\\end{array}\n",
    "$$\n",
    "\n",
    "Pour résumer l'information contenur dans les varaibles quantitaives, on fait appel aux **résumés statistiques**."
   ]
  },
  {
   "cell_type": "markdown",
   "metadata": {},
   "source": [
    "<div style = \"background-color:rgba(0,79,255,0.3); vertical-align:middle;padding:1%;margin:3% 5% 3% 5%;border:3px black solid;border-radius:13px;\">\n",
    "<h4>Résumés statistiques <em></em></h4><hr />\n",
    "On distingue <ul>\n",
    "\t<li>les résumés statistiques de <b> position</b> qui donnent l'ordre de grandeur de la série.</li>\n",
    "          <li>les résumés statistiques de <b> dispersion </b> qui expriment la variabilité des valeurs prises</li>\n",
    "    </ul>\n",
    "</div>"
   ]
  },
  {
   "cell_type": "markdown",
   "metadata": {},
   "source": [
    "<h2>Caract&eacute;ristiques de position</h2>\n",
    "<div style = \"background-color:rgba(0,79,255,0.3); vertical-align:middle;padding:1%;margin:3% 5% 3% 5%;border:3px black solid;border-radius:13px;\">\n",
    "<div class=\"definition\">\n",
    "<h4>D&eacute;finition <em></em></h4><hr />\n",
    "\n",
    "La <b>moyenne</b> de $ S$ , not&eacute;e $ \\overline{S}$ , est d&eacute;finie par la formule\n",
    "<!--MMM-->$$\\overline{S}=\\frac{1}{n}\\sum_{i=1}^n x_i$$<!--MMM-->\n",
    "o&ugrave; les $ x_i$ désignent  les  modalit&eacute;s   et $ n$  l&apos;effectif total.\n",
    "\n",
    "</div>\n"
   ]
  },
  {
   "cell_type": "markdown",
   "metadata": {},
   "source": [
    "<h3>Code</h3>\n",
    "Ecrire une fonction <code>Moy(serie)</code> où <code>serie</code> représente la liste des modalités\n",
    "La fonction renverra la moyenne de la série."
   ]
  },
  {
   "cell_type": "code",
   "execution_count": 4,
   "metadata": {},
   "outputs": [],
   "source": [
    "from math import *\n",
    "def Moy(serie) : \n",
    "        som = 0\n",
    "        i = 0\n",
    "        while i < len(serie):\n",
    "            som = som + serie[i]\n",
    "            i += 1\n",
    "        res = som/len(serie)\n",
    "        return res"
   ]
  },
  {
   "cell_type": "code",
   "execution_count": 5,
   "metadata": {},
   "outputs": [
    {
     "name": "stdout",
     "output_type": "stream",
     "text": [
      "La moyenne de la série est  10.4\n"
     ]
    }
   ],
   "source": [
    "#Test\n",
    "serie1=[12,11,7,10,9,3,12,15,8,8,14,11,7,2,0,18,11,14,16,11,9,12,11,11,15,10,15,7,14,10]\n",
    "print(\"La moyenne de la série est \", round(Moy(serie1),1)) #~10.4"
   ]
  },
  {
   "cell_type": "markdown",
   "metadata": {},
   "source": [
    "<h3>Code</h3>\n",
    "Ecrire une fonction <code>Lin(serie, a, b)</code> où <code>serie</code> représente la liste des modalités. <br>\n",
    "La fonction renverra la nouvelle série où les modalités sont multipliées par a et incrémenté de b."
   ]
  },
  {
   "cell_type": "code",
   "execution_count": 6,
   "metadata": {},
   "outputs": [],
   "source": [
    "def Lin(serie,a,b) :\n",
    "    res = []\n",
    "    i = 0\n",
    "    while i < len(serie):\n",
    "        val = (serie[i]*a) + b\n",
    "        val = round(val,1)\n",
    "        res.append(val)\n",
    "        i += 1       \n",
    "    return res\n",
    "    "
   ]
  },
  {
   "cell_type": "code",
   "execution_count": 7,
   "metadata": {},
   "outputs": [
    {
     "name": "stdout",
     "output_type": "stream",
     "text": [
      "[10.6, 9.8, 6.6, 9.0, 8.2, 3.4, 10.6, 13.0, 7.4, 7.4, 12.2, 9.8, 6.6, 2.6, 1.0, 15.4, 9.8, 12.2, 13.8, 9.8, 8.2, 10.6, 9.8, 9.8, 13.0, 9.0, 13.0, 6.6, 12.2, 9.0] 1\n"
     ]
    }
   ],
   "source": [
    "#Test\n",
    "print(Lin(serie1,0.8,1),1)#[10.6, 9.8, 6.6, 9.0, 8.2, 3.4, 10.6, 13.0, 7.4, 7.4, 12.2, 9.8, 6.6, 2.6, 1.0, 15.4, 9.8, 12.2, 13.8, 9.8, 8.2, 10.6, 9.8, 9.8, 13.0, 9.0, 13.0, 6.6, 12.2, 9.0]"
   ]
  },
  {
   "cell_type": "markdown",
   "metadata": {},
   "source": [
    "<div style = \"background-color:rgba(255,79,0,0.3);vertical-align:middle;padding:1%;margin:3% 5% 3% 5%;border:3px black solid;border-radius:13px;box-shadow:9px 9px 9px black;\">\n",
    "<u><b>Proposition</b></u><br>\n",
    "\n",
    "Etant une s&eacute;rie statistique discrète  $ S=\\left\\{x_1, x_2, ..., x_n\\right\\}$  avec $ x_i\\in \\mathbb{R}$ et $\\lambda, \\mu \\in \\mathbb{R}$. <br>\n",
    "$$ \\overline{\\lambda S+ \\mu}=  \\lambda \\overline{S}+ \\mu$$\n",
    "</div>\n",
    "\n",
    "<h5>Exercice</h5>\n",
    "D'après vous quelle est la moyenne de la série obtenue en multipliant toutes les valeurs de série1 par 0.8 et augmenté de 1? <br>\n",
    "Vérifier votre résultat à l'aide de la fonction <code>Moy</code>"
   ]
  },
  {
   "cell_type": "code",
   "execution_count": 8,
   "metadata": {},
   "outputs": [
    {
     "name": "stdout",
     "output_type": "stream",
     "text": [
      "D'après moi, avec la série obtenue, je trouve 9.346666666666668 de moyenne.\n"
     ]
    }
   ],
   "source": [
    "a = Moy(serie1)\n",
    "val = (a*0.8) + 1\n",
    "print(\"D'après moi, avec la série obtenue, je trouve\",val,\"de moyenne.\")"
   ]
  },
  {
   "cell_type": "code",
   "execution_count": 9,
   "metadata": {},
   "outputs": [
    {
     "name": "stdout",
     "output_type": "stream",
     "text": [
      "9.346666666666668\n"
     ]
    }
   ],
   "source": [
    "print(Moy(Lin(serie1,0.8,1)))"
   ]
  },
  {
   "cell_type": "markdown",
   "metadata": {},
   "source": [
    "\n",
    "<div style = \"background-color:rgba(0,79,255,0.3); vertical-align:middle;padding:1%;margin:3% 5% 3% 5%;border:3px black solid;border-radius:13px;\">\n",
    "<div class=\"definition\">\n",
    "<h4>D&eacute;finition <em></em></h4><hr />\n",
    "\n",
    "La <b>médiane</b> notée $M_e$ de $ S$ est une valeur centrale qui divise la population en deux sous-populations d’effectifs égaux : <br>\n",
    "    <ul>\n",
    "        <li> la sous-population\n",
    "            des individus de modalité inférieure à la médiane et, </li>\n",
    "        <li>la sous-population des individus de modalité supérieure à la médiane.</li>\n",
    "    </ul>\n",
    "</div>\n"
   ]
  },
  {
   "cell_type": "markdown",
   "metadata": {},
   "source": [
    "\n",
    "<div style = \"background-color:rgba(252,43,107,0.3); vertical-align:middle;padding:1%;margin:3% 5% 3% 5%;border:3px black solid;border-radius:13px;\">\n",
    "<div class=\"Méthode\">\n",
    "<h4><u>Méthode pour déterminer la médiane</u> <em></em></h4><hr />\n",
    "1. <b> Ordonnons</b> les modalités $x_1 \\leq x_2 \\leq ....\\leq x_N$ <br>\n",
    "2. Déterminons la <b>parité </b> de l'effectif N de la série <br>\n",
    "\n",
    "  * Si N est impair   <b>Me</b> est égale à <b> $x_\\frac{N+1}{2}$ </b>\n",
    "  \n",
    "  * Sinon N=2m, <b>Me </b> est égale à <b> $\\dfrac{x_m+x_{m+1}}{2}$ </b>\n",
    "</div>\n",
    "<h6><span style=\"text-decoration:underline\">Remarque:</span> </h6> Dans le cas où $N$ est pair toute valeur entre $x_m$ et $x_{m+1}$ de la série peut être prise  comme valeur de la médiane. La valeur prise ci-dessus est un choix."
   ]
  },
  {
   "cell_type": "markdown",
   "metadata": {},
   "source": [
    "<h3>Code</h3>\n",
    "Ecrire une fonction <code>Med(serie)</code> où <code>serie</code> représente la liste des modalités. <br>\n",
    "La fonction renverra la médiane de la série."
   ]
  },
  {
   "cell_type": "code",
   "execution_count": 10,
   "metadata": {},
   "outputs": [],
   "source": [
    "def Med(serie) : \n",
    "    liste = sorted(serie)\n",
    "    \n",
    "    if len(liste) % 2 == 0:\n",
    "        i = len(liste) // 2\n",
    "        j = (len(liste) // 2) + 1\n",
    "        som = liste[i] + liste[j]\n",
    "        res = som // 2\n",
    "        \n",
    "    if len(liste) % 2 != 0:\n",
    "        i = len(liste) // 2\n",
    "        res = liste[i]\n",
    "        \n",
    "    return res\n"
   ]
  },
  {
   "cell_type": "code",
   "execution_count": 11,
   "metadata": {},
   "outputs": [
    {
     "name": "stdout",
     "output_type": "stream",
     "text": [
      "La médiane de la série est  11\n"
     ]
    }
   ],
   "source": [
    "#Test\n",
    "print(\"La médiane de la série est \", round(Med(serie1),1)) #~11"
   ]
  },
  {
   "cell_type": "code",
   "execution_count": 21,
   "metadata": {},
   "outputs": [
    {
     "name": "stdout",
     "output_type": "stream",
     "text": [
      "Il y a 17 étudiants qui ont une note supérieur ou égale à 11.\n"
     ]
    }
   ],
   "source": [
    "i = 0\n",
    "compteur = 0\n",
    "mediane = Med(serie1)\n",
    "while i < len(serie1):\n",
    "    if serie1[i] >= mediane:\n",
    "        compteur += 1\n",
    "    i += 1\n",
    "print(\"Il y a\",compteur,\"étudiants qui ont une note supérieur ou égale à 11.\")"
   ]
  },
  {
   "cell_type": "markdown",
   "metadata": {},
   "source": [
    "<span class=\"bg-info text-success\">_Combien d'étudiants ont une note supérieur ou égale à 11?_</span>\n",
    "</dd><br /><dt>Les quantiles.</dt><dd> La m&eacute;diane s&eacute;pare l&apos;effectif en deux. On peut g&eacute;n&eacute;raliser cette d&eacute;composition en rempla&ccedil;ant 2 par un\n",
    "autre nombre.\n",
    "<div style = \"background-color:rgba(0,79,255,0.3); vertical-align:middle;padding:1%;margin:3% 5% 3% 5%;border:3px black solid;border-radius:13px;\">\n",
    "<div class=\"definition\">\n",
    "<h4>D&eacute;finition <em></em></h4><hr />\n",
    "\n",
    "Le <b>premier quartile </b> (resp <b> le troisième </b>) notée $Q_1$ (resp $Q_3$)  est la première  valeur de la série qui est supéreiure ou égale à au moins $25 \\%$  (resp $75 \\%$) des modalités de la série ordonnées.\n",
    "</div>"
   ]
  },
  {
   "cell_type": "markdown",
   "metadata": {},
   "source": [
    "\n",
    "<div style = \"background-color:rgba(252,43,107,0.3); vertical-align:middle;padding:1%;margin:3% 5% 3% 5%;border:3px black solid;border-radius:13px;\">\n",
    "<div class=\"Méthode\">\n",
    "<h4><u>Méthode pour déterminer $Q_1$</u> <em></em></h4><hr />\n",
    "1. <b> Ordonnons</b> les modalités $x_1 \\leq x_2 \\leq ....\\leq x_n$ <br>\n",
    "2. <b> Calculons </b>   l'effectif  $N =\\dfrac{n}{4}$ de la série\n",
    "\n",
    "  * Si N est entier   <b>$Q_1=x_N$</b>\n",
    "  \n",
    "  * Sinon <b>$Q_3=x_{Ent(N)+1}$</b> où $Ent(N)$ est la partie entière de $N$.\n",
    "</div>\n",
    "<h6><span style=\"text-decoration:underline\">Remarque:</span> </h6> $Q_1$ et $Q_3$ sont des <b><u> valeurs de la série </u></b> "
   ]
  },
  {
   "cell_type": "markdown",
   "metadata": {},
   "source": [
    "<h3>Code</h3>\n",
    "Ecrire une fonction <code>Quart(serie,ordre)</code>  où <code>serie</code> représente la liste des modalités et <code>ordre</code> le rang du quartile ici 1 ou 3. <br>\n",
    "La fonction <code>Quart(serie)</code> renverra le quartile de la série de rang  << ordre >> ."
   ]
  },
  {
   "cell_type": "code",
   "execution_count": 22,
   "metadata": {},
   "outputs": [],
   "source": [
    "def Quart(serie,ordre) : \n",
    "    \n",
    "    liste = sorted(serie)\n",
    "    if ordre == 1:\n",
    "        i = len(liste) //2\n",
    "        j = i //2\n",
    "        res = liste[j]\n",
    "    \n",
    "    if ordre == 3:\n",
    "        i = len(liste) //2\n",
    "        j = i //2\n",
    "        res = liste[i+j]\n",
    "        \n",
    "    return res"
   ]
  },
  {
   "cell_type": "code",
   "execution_count": 23,
   "metadata": {},
   "outputs": [
    {
     "name": "stdout",
     "output_type": "stream",
     "text": [
      "Le premier quartile de la série est 8 et le troisième quartile est 14 .\n"
     ]
    }
   ],
   "source": [
    "#Test\n",
    "print(\"Le premier quartile de la série est\",Quart(serie1,1),\"et le troisième quartile est\",Quart(serie1,3),\".\" ) #~8 et 14"
   ]
  },
  {
   "cell_type": "markdown",
   "metadata": {},
   "source": [
    "<h2>Caract&eacute;ristiques de dispersion</h2>\n",
    "<h3>L'étendue</h3>\n",
    "\n",
    "<div style = \"background-color:rgba(0,79,255,0.3); vertical-align:middle;padding:1%;margin:3% 5% 3% 5%;border:3px black solid;border-radius:13px;\">\n",
    "<div class=\"definition\">\n",
    "<h4>D&eacute;finition <em></em></h4><hr />\n",
    "\n",
    "L&apos;<span class=\"textbf\">&eacute;tendue</span>  notée $e_S$  d&apos;une s&eacute;rie statistique $ S$  est la diff&eacute;rence entre le plus grande modalit&eacute; et la plus petite.\n",
    "$$e_S=\\max(x_i|x_i\\in S)-\\min(x_i|x_i\\in S).$$\n",
    "</div>\n",
    " </div>   \n",
    "L&apos;&eacute;tendue permet de mesurer si la s&eacute;rie statistique est concentr&eacute;e autour de sa moyenne ou plut&ocirc;t dispers&eacute;e : plus l&apos;&eacute;tendue est petite plus la s&eacute;rie est concentr&eacute; autour de sa moyenne et inversement. \n",
    "\n",
    "Dans notre exemple l&apos;&eacute;tendue est de 18. Cette s&eacute;rie est donc dispers&eacute;e autour de sa moyenne.\n",
    "<h3>L'intervalle inter-quartile</h3> Dans notre exemple, l&apos;&eacute;tendue de 18 nous indique que la s&eacute;rie statistique est dispers&eacute;e autour sa moyenne. L&apos;intervalle inter-quartile permet de savoir s&apos;il y a plus de modalit&eacute; au dessus de la moyenne ou en dessous.\n",
    "\n",
    "<div style = \"background-color:rgba(0,79,255,0.3); vertical-align:middle;padding:1%;margin:3% 5% 3% 5%;border:3px black solid;border-radius:13px;\">\n",
    "<div class=\"definition\">\n",
    "<h4>D&eacute;finition <em></em></h4><hr />\n",
    "\n",
    "L&apos;<span class=\"textbf\">intervalle inter-quartile</span> d&apos;une s&eacute;rie statistique est la diff&eacute;rence entre le troisi&egrave;me et le premier quartile.\n",
    "</div>\n",
    "    </div>\n",
    "    \n",
    "<span class=\"bg-info text-success\">_Dans notre exemple, quelle est la valeur de l'intervalle inter-quartile?_<br>\n",
    "_Quel pourcentage d'étudiants au minimum ont  leur note comprises entre $Q_1$ et $Q_3$?_<br>\n",
    "_Dans le cas présent quelle est sa valeur?_</span>  \n"
   ]
  },
  {
   "cell_type": "markdown",
   "metadata": {},
   "source": [
    "<h3>Code</h3>\n",
    "Ecrire un <code>programme </code> permettant de répondre à la dernière question."
   ]
  },
  {
   "cell_type": "code",
   "execution_count": 24,
   "metadata": {},
   "outputs": [
    {
     "name": "stdout",
     "output_type": "stream",
     "text": [
      "La valeur de l'intervalle inter-quartile est 6\n",
      "Le pourcentage d'étudiants qui ont leur note comprises entre 8 et 14 est de 63.0 %\n"
     ]
    }
   ],
   "source": [
    "liste = sorted(serie1)\n",
    "print(\"La valeur de l'intervalle inter-quartile est\",Quart(liste,3)-Quart(liste,1))\n",
    "\n",
    "i = 0\n",
    "compt=0\n",
    "n = len(liste)\n",
    "while i < n:\n",
    "    if liste[i]>=Quart(liste,1) and liste[i]<=Quart(liste,3):\n",
    "        compt+=1\n",
    "    i += 1\n",
    "compt = compt/n*100\n",
    "print(\"Le pourcentage d'étudiants qui ont leur note comprises entre\",Quart(liste,1),\"et\", Quart(liste,3),\"est de\", round(compt,0),\"%\")"
   ]
  },
  {
   "cell_type": "markdown",
   "metadata": {},
   "source": [
    "<h3>La variance et l'écart type </h3>\n",
    "Pour mieux observer la variabilité de la série autour de la moyenne on utilise la variance.\n",
    "<div style = \"background-color:rgba(0,79,255,0.3); vertical-align:middle;padding:1%;margin:3% 5% 3% 5%;border:3px black solid;border-radius:13px;\",class=\"definition\">\n",
    "<h4><u><b>D&eacute;finition </b></u><em></em></h4><hr />\n",
    "\n",
    "La <span class=\"textbf\">variance</span> d&apos;une s&eacute;rie statistique $ S$  est le nombre \n",
    "$$v_S=\\frac{1}{n}\\sum_{i=1}^n(x_i-\\overline{S})^2$$\n",
    "\n",
    "\n",
    "</div>\n",
    "\n",
    "<h3>Code</h3>\n",
    "Ecrire une fonction <code>Var(serie)</code>  où <code>serie</code> représente la liste des modalités . <br>\n",
    "La fonction <code>Var(serie)</code> renverra la variance de la série.\n",
    "\n"
   ]
  },
  {
   "cell_type": "code",
   "execution_count": 25,
   "metadata": {},
   "outputs": [],
   "source": [
    "def Var(serie):\n",
    "    moy = Moy(serie)\n",
    "    som = 0\n",
    "    i = 0\n",
    "    while i < len(serie):\n",
    "        val = serie[i]-moy\n",
    "        val = val*val\n",
    "        som = som + val\n",
    "        i += 1\n",
    "    res= som / len(serie)\n",
    "\n",
    "    return res"
   ]
  },
  {
   "cell_type": "code",
   "execution_count": 26,
   "metadata": {},
   "outputs": [
    {
     "name": "stdout",
     "output_type": "stream",
     "text": [
      "La variance de la série est  16.2 .\n"
     ]
    }
   ],
   "source": [
    "#Test\n",
    "print(\"La variance de la série est \",round(Var(serie1),1),\".\" ) #~16.2"
   ]
  },
  {
   "cell_type": "markdown",
   "metadata": {},
   "source": [
    "Dans la pratique on calcul la variance &agrave; l&apos;aide de la formule suivante.\n",
    "<div style = \"background-color:rgba(255,79,0,0.3);vertical-align:middle;padding:1%;margin:3% 5% 3% 5%;border:3px black solid;border-radius:13px;box-shadow:9px 9px 9px black;\">\n",
    "<u><b>Proposition</b></u><br>\n",
    "\n",
    "\n",
    "Soit $ S$  une s&eacute;rie statistique. Consid&eacute;rons $ S^2$  la s&eacute;rie ou toutes les modalit&eacute;s sont mis au carr&eacute;. Alors\n",
    "$$v_S=\\overline{S^2}-\\overline{S}^2=\\left(\\frac{1}{n}\\sum_{i=1}^nx_i^2\\right)-\\overline{S}^2$$\n",
    "\n",
    "</div>"
   ]
  },
  {
   "cell_type": "markdown",
   "metadata": {},
   "source": [
    "<div class=\"demo\">\n",
    "<h4>D&eacute;monstration</h4>\n",
    "\n",
    "\\begin{eqnarray*}\n",
    "v_S&=&\\frac{1}{n}\\sum_{i=1}^n(x_i-\\overline{S})^2\\\\\n",
    "&=&\\frac{1}{n}\\sum_{i=1}^n(x_i^2-2x_i\\overline{S}+\\overline{S}^2)\\\\\n",
    "&=&\\frac{1}{n}\\sum_{i=1}^nx_i^2-\\frac{1}{n}\\sum_{i=1}^k2x_i\\overline{S}+\\frac{1}{n}\\sum_{i=1}^n\\overline{S}^2\\\\\n",
    "&=&\\frac{1}{n}\\sum_{i=1}^nx_i^2-2\\overline{S}\\frac{1}{n}\\sum_{i=1}^nx_i+\\overline{S}^2\\frac{1}{n}\\sum_{i=1}^n 1\\\\\n",
    "&=&\\frac{1}{n}\\sum_{i=1}^nx_i^2-2\\overline{S}\\overline{S}+\\overline{S}^2\\\\\n",
    "&=&\\frac{1}{n}\\sum_{i=1}^nx_i^2-\\overline{S}^2.\n",
    "\\end{eqnarray*}"
   ]
  },
  {
   "cell_type": "markdown",
   "metadata": {},
   "source": [
    "<h3>Code</h3>\n",
    "Ecrire une fonction <code>Var1(serie)</code>  où <code>serie</code> représente la liste des modalités . <br>\n",
    "La fonction <code>Var1(serie)</code> renverra la variance de la série en utilisant le calcul de la proposition ci-dessus."
   ]
  },
  {
   "cell_type": "code",
   "execution_count": 27,
   "metadata": {},
   "outputs": [],
   "source": [
    "def Var1(serie):\n",
    "    \n",
    "    moy = Moy(serie)\n",
    "    som = 0\n",
    "    i = 0\n",
    "    while i < len(serie):\n",
    "        som = som + (serie[i]*serie[i]) - (moy*moy)\n",
    "        i += 1\n",
    "    res = som / len(serie)\n",
    "    return res"
   ]
  },
  {
   "cell_type": "code",
   "execution_count": 28,
   "metadata": {},
   "outputs": [
    {
     "name": "stdout",
     "output_type": "stream",
     "text": [
      "La variance de la série est  16.2 .\n"
     ]
    }
   ],
   "source": [
    "#Test\n",
    "print(\"La variance de la série est \",round(Var1(serie1),1),\".\" ) #~16.2"
   ]
  },
  {
   "cell_type": "markdown",
   "metadata": {},
   "source": [
    "<span class=\"bg-info text-success\">_Dans notre exemple, l'unité de la moyenne est le point. \n",
    "Quel est l'unité de la variance?_<br>\n",
    "\n",
    "Pour \"renormaliser\" cette donn&eacute;e (le passage au carr&eacute;), on consid&egrave;re plus souvent l&apos;&eacute;cart-type.\n",
    "\n",
    "<div style = \"background-color:rgba(0,79,255,0.3); vertical-align:middle;padding:1%;margin:3% 5% 3% 5%;border:3px black solid;border-radius:13px;\",class=\"definition\">\n",
    "<h4><u><b>D&eacute;finition </b></u><em></em></h4><hr />\n",
    "\n",
    "\n",
    "L&apos;<span class=\"textbf\">&eacute;cart-type</span> d&apos;une s&eacute;rie statistique est d&eacute;finie comme la racine carr&eacute; de la variance : \n",
    "$$\\sigma_s=\\sqrt{v_s}$$\n",
    "\n",
    "</div>\n",
    "\n",
    "<h3>Code</h3>\n",
    "Ecrire une fonction <code>Ecart(serie)</code>  où <code>serie</code> représente la liste des modalités . <br>\n",
    "La fonction <code>Ecart(serie)</code> renverra l'écart type  de la série."
   ]
  },
  {
   "cell_type": "code",
   "execution_count": 29,
   "metadata": {},
   "outputs": [],
   "source": [
    "def Ecart(serie):\n",
    "    res= sqrt(Var1(serie))\n",
    "    return res"
   ]
  },
  {
   "cell_type": "code",
   "execution_count": 30,
   "metadata": {},
   "outputs": [
    {
     "name": "stdout",
     "output_type": "stream",
     "text": [
      "L'écart type de la série est  4.0 .\n"
     ]
    }
   ],
   "source": [
    "#Test\n",
    "print(\"L'écart type de la série est \",round(Ecart(serie1),1),\".\" ) #~4"
   ]
  },
  {
   "cell_type": "markdown",
   "metadata": {},
   "source": [
    "<span class=\"bg-info text-success\">_Dans notre exemple, la variance est égale sensiblement à  16. Imaginons que nous multiplions toutes les notes par $0.5$ et que  nous additionnons 8 points._</span>\n",
    "\n",
    "<span class=\"bg-info text-success\"> 1. Quel serait selon vous la valeur de la nouvelle moyenne?</span>\n",
    "\n",
    "<span class=\"bg-info text-success\"> 2. Quel serait selon vous la valeur de la nouvelle variance?</span>\n",
    "<h3>Code</h3>\n",
    "Vérifiez votre affirmation en utilisant la fonction  <code>Lin(serie,a,b)</code>  et   des fonctions <code>Var1(serie)</code> et <code>Ecart(serie)</code>.\n"
   ]
  },
  {
   "cell_type": "code",
   "execution_count": 31,
   "metadata": {},
   "outputs": [
    {
     "name": "stdout",
     "output_type": "stream",
     "text": [
      "4\n",
      "2\n"
     ]
    }
   ],
   "source": [
    "print(int(Var1(Lin(serie1,0.5,8))))\n",
    "print(int(Ecart(Lin(serie1,0.5,8))))"
   ]
  },
  {
   "cell_type": "markdown",
   "metadata": {},
   "source": [
    "<div style = \"background-color:rgba(255,79,0,0.3);vertical-align:middle;padding:1%;margin:3% 5% 3% 5%;border:3px black solid;border-radius:13px;box-shadow:9px 9px 9px black;\">\n",
    "<u><b>Proposition</b></u><br>\n",
    "\n",
    "Etant une s&eacute;rie statistique discrète  $ S=\\left\\{x_1, x_2, ..., x_n\\right\\}$  avec $ x_i\\in \\mathbb{R}$ et $\\lambda, \\mu \\in \\mathbb{R}$. <br>\n",
    "$$v_{\\lambda S+ \\mu}=  \\lambda^2 v_{S}$$\n",
    "    $$\\sigma_{\\lambda S+ \\mu}= \\lambda \\sigma_{S}$$\n",
    "</div>\n"
   ]
  },
  {
   "cell_type": "markdown",
   "metadata": {},
   "source": [
    "<h3>Exercice</h3>\n",
    "Un enseignant de français après avoir corrigé ses copies de français dont voici es notes ci-dessous, téléphone au centre d'harmonisation.<br>\n",
    "bac=[0,13,1,20,14,1,6,12.5,1,8.5,14.5,3,18,8,9,6.5,9,7,11,5,11,5,1,14,4,17,10,7,6.5,13,1,9,15,5,10,8,7,1,9,5,8,2.5,10.5,3]<br>\n",
    "Le responsable du centre lui demande:\n",
    "\n",
    "1. Quelle est sa moyenne arrondi au dixième?\n",
    "2. Quel est son écart type? <br>\n",
    "Le responsable lui répond ne part être satisfait car il doit obtenir une moyenne de 10 et un écart type de 2.5.<br>\n",
    "\n",
    "<span class=\"bg-info text-success\"> Par souci d'équité il doit appliquer la même règle à toutes ses notes, que doit-il faire?</span>\n"
   ]
  },
  {
   "cell_type": "code",
   "execution_count": 52,
   "metadata": {},
   "outputs": [
    {
     "name": "stdout",
     "output_type": "stream",
     "text": [
      "La moyenne est de 8.0\n",
      "Son écart type est égal à 5.0\n",
      "10.0\n",
      "2.5\n",
      "Il doit multiplier la note par 0.5 et ajouter 6 points\n"
     ]
    }
   ],
   "source": [
    "bac=[0,13,1,20,14,1,6,12.5,1,8.5,14.5,3,18,8,9,6.5,9,7,11,5,11,5,1,14,4,17,10,7,6.5,13,1,9,15,5,10,8,7,1,9,5,8,2.5,10.5,3]\n",
    "moy = round(Moy(bac),1)\n",
    "print(\"La moyenne est de\",moy)\n",
    "ecart = round(Ecart(bac),1)\n",
    "print(\"Son écart type est égal à\",ecart)\n",
    "moy1 = round(Moy(Lin(bac,0.5,6)),1)\n",
    "ecart1 = round(Ecart(Lin(bac,0.5,6)),1)\n",
    "print(moy1)\n",
    "print(ecart1)\n",
    "print(\"Il doit multiplier la note par 0.5 et ajouter 6 points\")"
   ]
  },
  {
   "cell_type": "markdown",
   "metadata": {},
   "source": [
    "<div id=\"Partie2\" style=\"border:3px solid black; padding:3%; font-size:314% ; text-align:center; color:white; background-color:black;\">\n",
    "    Représentation des données\n",
    "</div>"
   ]
  },
  {
   "cell_type": "markdown",
   "metadata": {},
   "source": [
    "<p>Que contient la variable <code>mod</code> de la case suivante ?</p>"
   ]
  },
  {
   "cell_type": "code",
   "execution_count": 53,
   "metadata": {},
   "outputs": [
    {
     "name": "stdout",
     "output_type": "stream",
     "text": [
      "{12: 3, 11: 6, 7: 3, 10: 3, 9: 2, 3: 1, 15: 3, 8: 2, 14: 3, 2: 1, 0: 1, 18: 1, 16: 1}\n"
     ]
    }
   ],
   "source": [
    "mod=dict()\n",
    "for x in serie1 : \n",
    "    try : mod[x]+=1\n",
    "    except : mod[x]=1\n",
    "print(mod)"
   ]
  },
  {
   "cell_type": "markdown",
   "metadata": {},
   "source": [
    "<h5>Exercice</h5>\n",
    "<p>Combien y a-t-il de modalités différentes ?</p>"
   ]
  },
  {
   "cell_type": "code",
   "execution_count": 54,
   "metadata": {},
   "outputs": [
    {
     "name": "stdout",
     "output_type": "stream",
     "text": [
      "13\n"
     ]
    }
   ],
   "source": [
    "print(len(mod))"
   ]
  },
  {
   "cell_type": "markdown",
   "metadata": {},
   "source": [
    "Il existe plusieurs mani&egrave;re de repr&eacute;senter une s&eacute;rie statistique &agrave; caract&egrave;re discret. \n",
    "<h3><b><u>Le nuage de points </b></u></h3>\n",
    "<h5>Exercice</h5>\n",
    "<p>Dessiner le nuage de point (les notes en abscisse et l'effectif en ordonnée)</p>"
   ]
  },
  {
   "cell_type": "code",
   "execution_count": 55,
   "metadata": {},
   "outputs": [
    {
     "data": {
      "image/png": "[encoded data removed]",
      "text/plain": [
       "<Figure size 640x480 with 1 Axes>"
      ]
     },
     "metadata": {},
     "output_type": "display_data"
    }
   ],
   "source": [
    "from  matplotlib.pyplot import *\n",
    "\n",
    "for i in mod:\n",
    "    if i==0:\n",
    "        plot(i,mod[i],\"mo\",label=\"Données\")\n",
    "    plot(i,mod[i],\"mo\")\n",
    "\n",
    "\n",
    "grid(True)\n",
    "xlabel(\"Notes\")\n",
    "ylabel(\"Effectifs\")\n",
    "legend()\n",
    "show()"
   ]
  },
  {
   "cell_type": "markdown",
   "metadata": {},
   "source": [
    "<details style=\"color:green;\">\n",
    "        <summary><strong>Attendues</strong></summary>\n",
    "        <div id= ><img src=\"Nuage1.png\" alt=\"table\" width=\"400\" /> "
   ]
  },
  {
   "cell_type": "markdown",
   "metadata": {},
   "source": [
    "<h5>Facultatif</h5>\n",
    "<p>La fonction <code>scatter</code> de la bibliothèque <code>matplotlib</code> permet de tracer automatiquement un nuage de point. Comme le montre l'exemple suivant :</p>"
   ]
  },
  {
   "cell_type": "code",
   "execution_count": 56,
   "metadata": {},
   "outputs": [
    {
     "data": {
      "image/png": "[encoded data removed]",
      "text/plain": [
       "<Figure size 640x480 with 1 Axes>"
      ]
     },
     "metadata": {},
     "output_type": "display_data"
    }
   ],
   "source": [
    "scatter([1, 2, 3], [5, 3, 2])\n",
    "show()"
   ]
  },
  {
   "cell_type": "markdown",
   "metadata": {},
   "source": [
    "<p>A l'aide de cette nouvelle fonction tracer le nuage de point du <code>serie1</code>.</p>"
   ]
  },
  {
   "cell_type": "code",
   "execution_count": 57,
   "metadata": {},
   "outputs": [
    {
     "data": {
      "image/png": "[encoded data removed]",
      "text/plain": [
       "<Figure size 640x480 with 1 Axes>"
      ]
     },
     "metadata": {},
     "output_type": "display_data"
    }
   ],
   "source": [
    "abscisse = []\n",
    "ordonnee = []\n",
    "for i in mod:\n",
    "    abscisse.append(i)\n",
    "    ordonnee.append(mod[i])\n",
    "scatter(abscisse,ordonnee)\n",
    "xticks([0,2,4,6,8,10,12,14,16,18,20])\n",
    "grid(True)\n",
    "xlabel('Notes obtenues')\n",
    "ylabel('Effectifs')\n",
    "show()"
   ]
  },
  {
   "cell_type": "markdown",
   "metadata": {},
   "source": [
    "<details style=\"color:green;\">\n",
    "        <summary><strong>Attendues</strong></summary>\n",
    "        <div id= ><img src=\"Nuage2.png\" alt=\"table\" width=\"400\" /> "
   ]
  },
  {
   "cell_type": "markdown",
   "metadata": {},
   "source": [
    "<h3><b><u>Le diagramme en bâton </b></u></h3>\n",
    "On trace les segments $ \\displaystyle{ \\Big\\{\\big[(x_i,n_i) ; (x_i,0)\\big]\\Big\\}_{i\\in[\\![1;k]\\!]}}$  o&ugrave; les $ x_i$   d&eacute;signent les modalit&eacute;s et $ n_i$  les effectifs associ&eacute;s. Avec notre exemple cela donne :\n",
    "\n"
   ]
  },
  {
   "cell_type": "markdown",
   "metadata": {},
   "source": [
    "<h5>Facultatif</h5>\n",
    "<p>Il existe un moyen de réaliser automatiquement des diagrammes en baton sous python grace à une fonction de la bibliothèque <code>mathplotlib</code>. C'est la fonction <code>bar</code> qui s'utilise comme la fonction <code>plot</code>. Observer en exécutant les exemples suivants :</p>"
   ]
  },
  {
   "cell_type": "code",
   "execution_count": 58,
   "metadata": {},
   "outputs": [
    {
     "data": {
      "image/png": "[encoded data removed]",
      "text/plain": [
       "<Figure size 640x480 with 1 Axes>"
      ]
     },
     "metadata": {},
     "output_type": "display_data"
    }
   ],
   "source": [
    "bar([1, 2, 3], [5, 3, 2],color='m')\n",
    "show()"
   ]
  },
  {
   "cell_type": "code",
   "execution_count": 59,
   "metadata": {},
   "outputs": [
    {
     "data": {
      "image/png": "[encoded data removed]",
      "text/plain": [
       "<Figure size 640x480 with 1 Axes>"
      ]
     },
     "metadata": {},
     "output_type": "display_data"
    }
   ],
   "source": [
    "bar([1, 2, 3], [5, 3, 2], width=0.05,color='r')\n",
    "show()"
   ]
  },
  {
   "cell_type": "markdown",
   "metadata": {},
   "source": [
    "<h5>Exercice</h5>\n",
    "<p>Représentez un diagramme en baton représentant le <code>serie1</code> de donnée.</p> Il existe une fonction <code> bar </code>"
   ]
  },
  {
   "cell_type": "markdown",
   "metadata": {},
   "source": [
    "<h3>Code</h3>\n",
    "<p>A l'aide la fonction <code>bar</code> tracer le diagramme en baton du <code>serie1</code> de donnée.<p>"
   ]
  },
  {
   "cell_type": "code",
   "execution_count": 60,
   "metadata": {},
   "outputs": [
    {
     "data": {
      "image/png": "[encoded data removed]",
      "text/plain": [
       "<Figure size 640x480 with 1 Axes>"
      ]
     },
     "metadata": {},
     "output_type": "display_data"
    }
   ],
   "source": [
    "import matplotlib.pyplot as plt\n",
    "x = []\n",
    "y = []\n",
    "for i in mod:\n",
    "    x.append(i)\n",
    "    y.append(mod[i])\n",
    "xticks([0,2,4,6,8,10,12,14,16,18,20])\n",
    "xlabel(\"Notes obtenues\")\n",
    "ylabel(\"Effectifs\")\n",
    "grid(True)\n",
    "plt.bar(x, y, width=0.2, color='green') \n",
    "show()"
   ]
  },
  {
   "cell_type": "markdown",
   "metadata": {},
   "source": [
    "<details style=\"color:green;\">\n",
    "        <summary><strong>Attendues</strong></summary>\n",
    "        <div id= ><img src=\"Baton1.png\" alt=\"table\" width=\"400\" /> "
   ]
  },
  {
   "cell_type": "markdown",
   "metadata": {},
   "source": [
    "<h3><b><u>Le diagramme à moustaches ou boite de Tukey </u></b></h3>\n",
    "\n",
    "Ce diagramme est un moyen rapide de figurer le profil essentiel d'une série statistique quantitative.<br>\n",
    "    Il résume les indicatuers de position (_minimum_, _maximum_,  _médiane_ et _quartiles_)<br>\n",
    " \n",
    "Ce diagramme est utilisé principalement pour comparer un même caractère dans deux populations de taille différentes.\n",
    "\n",
    "<div style = \"background-color:rgba(252,43,107,0.3); vertical-align:middle;padding:1%;margin:3% 5% 3% 5%;border:3px black solid;border-radius:13px;\",class=\"Méthode\">\n",
    "<h4><u>Protocole de construction </u> <em></em></h4><hr />\n",
    "1. <b> Tracer</b> un rectangle allant du premier quartile ou troisième quartile. <br>\n",
    "2. <b> Couper </b>  le rectangle par la médiane.<br>\n",
    "    3. <b> Ajouter </b> des segments aux extrémités allant jusqu'au valeur extrêmes.\n",
    "\n",
    " \n",
    "</div>\n",
    "<h6><span style=\"text-decoration:underline\">Remarque:</span> </h6>\n",
    "\n",
    "Une **valeur aberrante** , est représentée par point éloigné du reste des points de données car leur  valeur est  inférieure à Q1–1,5 * IQR ou  supérieurs à Q3 + 1,5 * IQR.<br>\n",
    "Par défaut sous Matplotlib les extrémités (**'caps'** en anglais) des moustaches (**'whiskers'** en anglais) sont placées à $Q1 - 1.5 * IQR$ et $Q3 + 1.5 * IQR$ avec IQR interquartile range (Écart interquartile). <br>\n",
    "Les points (**'fliers'** en anglais) en dehors de ces limites sont représentés par une croix.\n",
    "\n",
    "<h5>Exercice</h5>\n",
    " Un directeur de supermarché décide d'étudier le temps d'attente aux caisses de son établissement pour ajuster le nombre de caisses ouverte à la demande.<br>\n",
    "Pour cela il interroge le lundi et le vendredi cent clients et note les temps d'attente approximatifs en minutes.<br>\n",
    "En voici les diagrammes à moustaches"
   ]
  },
  {
   "cell_type": "code",
   "execution_count": 61,
   "metadata": {},
   "outputs": [
    {
     "data": {
      "image/png": "[encoded data removed]",
      "text/plain": [
       "<Figure size 640x480 with 1 Axes>"
      ]
     },
     "metadata": {},
     "output_type": "display_data"
    }
   ],
   "source": [
    "from  matplotlib.pyplot import *\n",
    "lun={1:14, 2:13,3:23, 4:9, 5:14, 6:8,7:12,8:4,9:1,10:2}\n",
    "ven={1:5,2:9,3:12, 4:8, 5:19, 6:10,7:8,8:5,9: 11,10:9,11:2,12:2}\n",
    "\n",
    "lundi = []\n",
    "vendredi=[]\n",
    "for i in lun:\n",
    "    for j in range(lun[i]):\n",
    "        lundi.append(i)\n",
    "for i in ven:\n",
    "    for j in range(ven[i]):\n",
    "        vendredi.append(i)\n",
    "data = [lundi,vendredi]\n",
    "\n",
    "\n",
    "boxplot(lundi, positions = [1], widths = 0.6,vert=0) ;\n",
    "\n",
    "boxplot(vendredi, positions = [2], widths = 0.6,vert=0) ;  gca().yaxis.set_ticklabels(['lundi','vendredi']) ;\n",
    "\n",
    "show()"
   ]
  },
  {
   "cell_type": "markdown",
   "metadata": {},
   "source": [
    "<h5>Facultatif</h5>\n",
    "À nouveau les mêmes diagrammes un peu plus customisé."
   ]
  },
  {
   "cell_type": "code",
   "execution_count": 62,
   "metadata": {},
   "outputs": [
    {
     "data": {
      "image/png": "[encoded data removed]",
      "text/plain": [
       "<Figure size 640x480 with 1 Axes>"
      ]
     },
     "metadata": {},
     "output_type": "display_data"
    }
   ],
   "source": [
    "import matplotlib.pyplot as plt\n",
    "\n",
    "def draw_plot(data, vert,edge_color, fill_color):\n",
    "    bp = ax.boxplot(data,vert=False, patch_artist=True)\n",
    "\n",
    "    for element in ['boxes', 'whiskers', 'fliers', 'means', 'medians', 'caps']:\n",
    "        plt.setp(bp[element], color=edge_color)\n",
    "\n",
    "    for patch in bp['boxes']:\n",
    "        patch.set(facecolor=fill_color)       \n",
    "\n",
    "fig, ax= plt.subplots()\n",
    "xlabel(\"Temps d'attente en minute\")\n",
    "draw_plot(data,1, 'red', 'tan')\n",
    "y_formatter = FixedFormatter([\n",
    "    \"Lundi\", \"Mardi\"])\n",
    "ax.yaxis.set_major_formatter(y_formatter)\n",
    "plt.show()"
   ]
  },
  {
   "cell_type": "markdown",
   "metadata": {},
   "source": [
    "\n",
    "<ol>\n",
    "<li><span class=\"bg-info text-success\">  Comparer à l'aide des diagrammes en boîte les temps d'attente le lundi et le vendredi. </span></li>\n",
    "<li><span class=\"bg-info text-success\"> Dans un questionnaire, les clients qualifient d'acceptable un temps d'attente compris entr 1 et 6 minutes. </span></li>\n",
    "Pour chaque affirmation ci-dessous dîtes si elle est vraie ou fausse en justifiant votre réponse.\n",
    "<ul>\n",
    "    <li><span class=\"bg-info text-success\">  <b> Affirmation A: </b> le vendredi, exactement la moitié des clients attendent 5 minutes ou plus en caisse. </span></li>   \n",
    "        <li><span class=\"bg-info text-success\">  <b> Affirmation B: </b> le vendredi,au moins un quart des clients attendent au plus tris minutes en caisse. </span></li> \n",
    "        <li><span class=\"bg-info text-success\">  <b> Affirmation C: </b> il y a autant de clients qui trouvent le temps d'attente  acceptable le lundi que le vendredi. </span></li>   \n",
    "    </ul>\n",
    "</ol>\n"
   ]
  },
  {
   "cell_type": "markdown",
   "metadata": {},
   "source": [
    "<h5>Exercice</h5>\n",
    "Faire le diagramme en boite de <code> serie1 </code>. Quelle conclusion pouvez vous tirez sur les notes obtenues par ce groupe à l'examen de mathématiques."
   ]
  },
  {
   "cell_type": "code",
   "execution_count": 63,
   "metadata": {},
   "outputs": [
    {
     "data": {
      "image/png": "[encoded data removed]",
      "text/plain": [
       "<Figure size 640x480 with 1 Axes>"
      ]
     },
     "metadata": {},
     "output_type": "display_data"
    }
   ],
   "source": [
    "from matplotlib.pyplot import *\n",
    "\n",
    "tab = []\n",
    "for i in mod:\n",
    "    for j in range(mod[i]):\n",
    "        tab.append(i)\n",
    "xticks([0,2,4,6,8,10,12,14,16,18,20])\n",
    "boxplot(tab, widths = 0.2, vert=0)\n",
    "gca().yaxis.set_ticklabels(['Notes obtenues']) ;"
   ]
  },
  {
   "cell_type": "markdown",
   "metadata": {},
   "source": [
    "<div style=\"padding:19px;text-align:center; font-size:2em; color:white; background-color:red;\">\n",
    "     Réalisez l'exercice sur les variables en python de la fiche de suivi\n",
    "</div>"
   ]
  },
  {
   "cell_type": "markdown",
   "metadata": {},
   "source": [
    "<div id=\"Partie3\" style=\"border:3px solid black; padding:3%; font-size:314% ; text-align:center; color:white; background-color:black;\">\n",
    "    Application\n",
    "</div>\n",
    "<p>\n",
    "    <details>\n",
    "        <summary><strong style=\"font-size:1.414em;color:green;\">Menu de navigation</strong></summary>\n",
    "        <ul>\n",
    "            <li><a href=\"#haut2page\">Haut de page</a></li>\n",
    "            <li><a href=\"#Partie1\">Python comme une calculatrice</a></li>\n",
    "            <li><a href=\"#Partie2\">Le calcul propositionnel en python</a></li>\n",
    "            <li><a href=\"#Partie3\">La puissance des boucles</a></li>\n",
    "            <li><a href=\"#Partie4\">Numération sur les nombres entiers</a></li>\n",
    "            <li><a href=\"#Partie5\">Numération sur les nombres décimaux</a></li>\n",
    "            <li><a href=\"#Partie6\">Graphiques en python</a></li>\n",
    "        </ul>\n",
    "    </details>\n",
    "</p>"
   ]
  },
  {
   "cell_type": "markdown",
   "metadata": {},
   "source": [
    "L'objectif de cette dernière partie est de faire une analyse des résultats de la promo de l'an passé en DUTINFO selon son groupe de TD. Pour ce faire, il faut partir du fichier csv du logiciel de notes, SCODOC utilisé par les enseignants et le convertir en tableau exploitable par python grâce la libraire **Pandas**.\n",
    "**Pandas**  permet de manipuler facilement des données à analyser :\n",
    "<ul>\n",
    "<li> Manipuler des tableaux de données avec des étiquettes de variables (colonnes) et d'individus (lignes).\n",
    "<li>ces tableaux sont appelés DataFrames, similaires aux dataframes sous R.\n",
    "<li>on peut facilement lire et écrire ces dataframes à partir ou vers un fichier tabulé.\n",
    "<li>on peut faciler tracer des graphes à partir de ces DataFrames grâce à matplotlib.\n",
    "</ul>\n",
    "Exécuter la cellule ci-dessous et répondre aux questions posées.\n",
    "<ol>\n",
    "<li><span class=\"bg-info text-success\">  Combien y-a-t-il d'étudiants dans la promotion?</span>\n",
    "<li><span class=\"bg-info text-success\">  Quelles informations contiennent le tableau?\n",
    "<li><span class=\"bg-info text-success\"> Combien y-a-t-il de groupes différents?</span></span>\n",
    "</ol>"
   ]
  },
  {
   "cell_type": "code",
   "execution_count": 64,
   "metadata": {},
   "outputs": [
    {
     "data": {
      "text/html": [
       "<div>\n",
       "<style scoped>\n",
       "    .dataframe tbody tr th:only-of-type {\n",
       "        vertical-align: middle;\n",
       "    }\n",
       "\n",
       "    .dataframe tbody tr th {\n",
       "        vertical-align: top;\n",
       "    }\n",
       "\n",
       "    .dataframe thead th {\n",
       "        text-align: right;\n",
       "    }\n",
       "</style>\n",
       "<table border=\"1\" class=\"dataframe\">\n",
       "  <thead>\n",
       "    <tr style=\"text-align: right;\">\n",
       "      <th></th>\n",
       "      <th>Rg</th>\n",
       "      <th>Civ.</th>\n",
       "      <th>Groupe TD</th>\n",
       "      <th>Moy</th>\n",
       "      <th>UE11</th>\n",
       "      <th>UE12</th>\n",
       "    </tr>\n",
       "  </thead>\n",
       "  <tbody>\n",
       "    <tr>\n",
       "      <th>0</th>\n",
       "      <td>1</td>\n",
       "      <td>M.</td>\n",
       "      <td>Whaitiri</td>\n",
       "      <td>17.15</td>\n",
       "      <td>18.97</td>\n",
       "      <td>18.50</td>\n",
       "    </tr>\n",
       "    <tr>\n",
       "      <th>1</th>\n",
       "      <td>2</td>\n",
       "      <td>Mme</td>\n",
       "      <td>Shango</td>\n",
       "      <td>16.87</td>\n",
       "      <td>18.11</td>\n",
       "      <td>16.88</td>\n",
       "    </tr>\n",
       "    <tr>\n",
       "      <th>2</th>\n",
       "      <td>3</td>\n",
       "      <td>M.</td>\n",
       "      <td>Tlaloc</td>\n",
       "      <td>16.42</td>\n",
       "      <td>18.18</td>\n",
       "      <td>18.90</td>\n",
       "    </tr>\n",
       "    <tr>\n",
       "      <th>3</th>\n",
       "      <td>4</td>\n",
       "      <td>M.</td>\n",
       "      <td>Whaitiri</td>\n",
       "      <td>15.64</td>\n",
       "      <td>17.33</td>\n",
       "      <td>17.53</td>\n",
       "    </tr>\n",
       "    <tr>\n",
       "      <th>4</th>\n",
       "      <td>5</td>\n",
       "      <td>M.</td>\n",
       "      <td>Indra</td>\n",
       "      <td>15.59</td>\n",
       "      <td>17.08</td>\n",
       "      <td>16.64</td>\n",
       "    </tr>\n",
       "    <tr>\n",
       "      <th>...</th>\n",
       "      <td>...</td>\n",
       "      <td>...</td>\n",
       "      <td>...</td>\n",
       "      <td>...</td>\n",
       "      <td>...</td>\n",
       "      <td>...</td>\n",
       "    </tr>\n",
       "    <tr>\n",
       "      <th>133</th>\n",
       "      <td>134</td>\n",
       "      <td>M.</td>\n",
       "      <td>Indra</td>\n",
       "      <td>2.64</td>\n",
       "      <td>2.33</td>\n",
       "      <td>3.07</td>\n",
       "    </tr>\n",
       "    <tr>\n",
       "      <th>134</th>\n",
       "      <td>135</td>\n",
       "      <td>M.</td>\n",
       "      <td>Zeus</td>\n",
       "      <td>0.88</td>\n",
       "      <td>0.04</td>\n",
       "      <td>0.10</td>\n",
       "    </tr>\n",
       "    <tr>\n",
       "      <th>135</th>\n",
       "      <td>136 ex</td>\n",
       "      <td>Mme</td>\n",
       "      <td>Dém.</td>\n",
       "      <td>NaN</td>\n",
       "      <td>NaN</td>\n",
       "      <td>NaN</td>\n",
       "    </tr>\n",
       "    <tr>\n",
       "      <th>136</th>\n",
       "      <td>136 ex</td>\n",
       "      <td>M.</td>\n",
       "      <td>Dém.</td>\n",
       "      <td>NaN</td>\n",
       "      <td>NaN</td>\n",
       "      <td>NaN</td>\n",
       "    </tr>\n",
       "    <tr>\n",
       "      <th>137</th>\n",
       "      <td>136 ex</td>\n",
       "      <td>M.</td>\n",
       "      <td>Dém.</td>\n",
       "      <td>NaN</td>\n",
       "      <td>NaN</td>\n",
       "      <td>NaN</td>\n",
       "    </tr>\n",
       "  </tbody>\n",
       "</table>\n",
       "<p>138 rows × 6 columns</p>\n",
       "</div>"
      ],
      "text/plain": [
       "         Rg Civ. Groupe TD    Moy   UE11   UE12\n",
       "0         1   M.  Whaitiri  17.15  18.97  18.50\n",
       "1         2  Mme    Shango  16.87  18.11  16.88\n",
       "2         3   M.    Tlaloc  16.42  18.18  18.90\n",
       "3         4   M.  Whaitiri  15.64  17.33  17.53\n",
       "4         5   M.     Indra  15.59  17.08  16.64\n",
       "..      ...  ...       ...    ...    ...    ...\n",
       "133     134   M.     Indra   2.64   2.33   3.07\n",
       "134     135   M.      Zeus   0.88   0.04   0.10\n",
       "135  136 ex  Mme      Dém.    NaN    NaN    NaN\n",
       "136  136 ex   M.      Dém.    NaN    NaN    NaN\n",
       "137  136 ex   M.      Dém.    NaN    NaN    NaN\n",
       "\n",
       "[138 rows x 6 columns]"
      ]
     },
     "execution_count": 64,
     "metadata": {},
     "output_type": "execute_result"
    }
   ],
   "source": [
    "import pandas as pd\n",
    "Notes=pd.read_excel(\"NotesButInfoanonym1.xlsx\")\n",
    "Notes"
   ]
  },
  {
   "cell_type": "markdown",
   "metadata": {},
   "source": [
    "<h5>Exercice</h5>\n",
    "Compilez la cellule ci-dessus et répondez aux questions suivantes\n",
    "<ol>\n",
    "<li> Quel groupe à la meilleur moyenne?\n",
    "<li> Est-ce le groupe le plus homogène?\n",
    "<li> Proposer une illustration permettant de comparer sur un seul graphique les résultats obtenus par chacun des groupes.\n",
    "<li> Proposer une illustration permettanr de comparer sur un seul graphique les résultats obtenus par chacun des groupes selon la civilité.\n",
    "</ol>"
   ]
  },
  {
   "cell_type": "code",
   "execution_count": 65,
   "metadata": {},
   "outputs": [
    {
     "name": "stdout",
     "output_type": "stream",
     "text": [
      "Indra : 10.5\n",
      "Shango : 11.0\n",
      "Tlaloc : 11.6\n",
      "Whaitiri : 11.7\n",
      "Zeus : 11.0\n",
      "Le groupe qui à la meilleure moyenne est Whaitiri.\n"
     ]
    }
   ],
   "source": [
    "groupe = Notes[\"Groupe TD\"]\n",
    "notes = Notes[\"Moy\"]\n",
    "moyI = []; moyS = []; moyT = []; moyW = []; moyZ = [];\n",
    "i = 0\n",
    "j = 0\n",
    "while i < len(Notes):\n",
    "    if groupe[i] == \"Indra\":\n",
    "        moyI.append(notes[i])\n",
    "    if groupe[i] == \"Shango\":\n",
    "        moyS.append(notes[i])\n",
    "    if groupe[i] == \"Tlaloc\":\n",
    "        moyT.append(notes[i])\n",
    "    if groupe[i] == \"Whaitiri\":\n",
    "        moyW.append(notes[i])\n",
    "    if groupe[i] == \"Zeus\":\n",
    "        moyZ.append(notes[i])\n",
    "    i += 1\n",
    "print(\"Indra :\",round(Moy(moyI),1)); print(\"Shango :\",round(Moy(moyS),1))\n",
    "print(\"Tlaloc :\",round(Moy(moyT),1)); print(\"Whaitiri :\",round(Moy(moyW),1)); print(\"Zeus :\",round(Moy(moyZ),1))\n",
    "print(\"Le groupe qui à la meilleure moyenne est Whaitiri.\")"
   ]
  },
  {
   "cell_type": "code",
   "execution_count": 66,
   "metadata": {},
   "outputs": [
    {
     "name": "stdout",
     "output_type": "stream",
     "text": [
      "Indra : 2.68\n",
      "Shango : 4.04\n",
      "Tlaloc : 2.69\n",
      "Whaitiri : 3.48\n",
      "Zeus : 2.74\n",
      "Le groupe le plus homogène est Indra.\n"
     ]
    }
   ],
   "source": [
    "print(\"Indra :\",round(Quart(moyI,3)-Quart(moyI,1),2)); print(\"Shango :\",round(Quart(moyS,3)-Quart(moyS,1),2))\n",
    "print(\"Tlaloc :\",round(Quart(moyT,3)-Quart(moyT,1),2)); print(\"Whaitiri :\",round(Quart(moyW,3)-Quart(moyW,1),2))\n",
    "print(\"Zeus :\",round(Quart(moyZ,3)-Quart(moyZ,1),2))\n",
    "print(\"Le groupe le plus homogène est Indra.\")"
   ]
  },
  {
   "cell_type": "code",
   "execution_count": 69,
   "metadata": {},
   "outputs": [
    {
     "data": {
      "image/png": "[encoded data removed]",
      "text/plain": [
       "<Figure size 640x480 with 1 Axes>"
      ]
     },
     "metadata": {},
     "output_type": "display_data"
    },
    {
     "data": {
      "image/png": "[encoded data removed]",
      "text/plain": [
       "<Figure size 640x480 with 1 Axes>"
      ]
     },
     "metadata": {},
     "output_type": "display_data"
    }
   ],
   "source": [
    "from matplotlib.pyplot import *\n",
    "\n",
    "Notes.boxplot(by=\"Groupe TD\",column=['Moy'])\n",
    "yticks([0,2,4,6,8,10,12,14,16,18,20])\n",
    "grid(False)\n",
    "Notes.boxplot(by=\"Civ.\",column=['Moy'])\n",
    "yticks([0,2,4,6,8,10,12,14,16,18,20])\n",
    "grid(False)\n",
    "show()"
   ]
  },
  {
   "cell_type": "markdown",
   "metadata": {},
   "source": [
    "<details style=\"color:green;\">\n",
    "        <summary><strong>Attendues</strong></summary>\n",
    "      <div id><img src=\"DiagMous1.png\" alt=\"table\" width=\"400\"> \n",
    "          <div id><img src=\"DiagMous2.png\" alt=\"table\" width=\"400\"> "
   ]
  }
 ],
 "metadata": {
  "kernelspec": {
   "display_name": "Python 3 (ipykernel)",
   "language": "python",
   "name": "python3"
  },
  "language_info": {
   "codemirror_mode": {
    "name": "ipython",
    "version": 3
   },
   "file_extension": ".py",
   "mimetype": "text/x-python",
   "name": "python",
   "nbconvert_exporter": "python",
   "pygments_lexer": "ipython3",
   "version": "3.9.13"
  }
 },
 "nbformat": 4,
 "nbformat_minor": 2
}
